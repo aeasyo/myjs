{
 "cells": [
  {
   "cell_type": "markdown",
   "metadata": {},
   "source": [
    "## 2."
   ]
  },
  {
   "cell_type": "code",
   "execution_count": null,
   "metadata": {},
   "outputs": [],
   "source": [
    "#例如:a=25,b=15，a%b=10,b%10=5,10%5=0,最后一个为被除数余数的除数就是5,5就是所求最大公约数。"
   ]
  },
  {
   "cell_type": "code",
   "execution_count": 6,
   "metadata": {},
   "outputs": [
    {
     "name": "stdout",
     "output_type": "stream",
     "text": [
      "(6, 60)\n"
     ]
    }
   ],
   "source": [
    "def demo(m,n):  #辗转相除法：辗转相除法是求两个自然数的最大公约数的一种方法，也叫欧几里德算法。\n",
    "    if m>n:\n",
    "        m, n = n, m\n",
    "    p = m*n\n",
    "    while m!=0:\n",
    "        r = n%m\n",
    "        n = m\n",
    "        m = r\n",
    "    return (n,p//n)   #返回最大公约数和最小公倍数\n",
    "print(demo(12, 30))"
   ]
  },
  {
   "cell_type": "markdown",
   "metadata": {},
   "source": [
    "## 3."
   ]
  },
  {
   "cell_type": "code",
   "execution_count": 13,
   "metadata": {},
   "outputs": [
    {
     "name": "stdout",
     "output_type": "stream",
     "text": [
      "370370367\n"
     ]
    }
   ],
   "source": [
    "def demo(a, n):\n",
    "    assert type(n)==int and 0<a<10, 'a must be integer between 1 and 9' #判断a的值在1-9范围内\n",
    "    result, i = 0, 0\n",
    "    for _ in range(n):  #_代表每次改变的值\n",
    "        i = i*10 + a\n",
    "        result += i\n",
    "    return result\n",
    "print(demo(3,9))"
   ]
  },
  {
   "cell_type": "markdown",
   "metadata": {},
   "source": [
    "## 4."
   ]
  },
  {
   "cell_type": "code",
   "execution_count": 14,
   "metadata": {},
   "outputs": [
    {
     "data": {
      "text/plain": [
       "True"
      ]
     },
     "execution_count": 14,
     "metadata": {},
     "output_type": "execute_result"
    }
   ],
   "source": [
    "def isPalindrome1(text):\n",
    "#循环， 首尾检查\n",
    "    length = len(text)\n",
    "    for i in range(length//2+1):\n",
    "        if text[i] != text[-1-i]:\n",
    "            return False\n",
    "    return True\n",
    "\n",
    "isPalindrome1('前中前')"
   ]
  },
  {
   "cell_type": "markdown",
   "metadata": {},
   "source": [
    "## 5."
   ]
  },
  {
   "cell_type": "code",
   "execution_count": 3,
   "metadata": {},
   "outputs": [
    {
     "name": "stdout",
     "output_type": "stream",
     "text": [
      "abcdabcdabcdabcdabcdabcdabcdabcdabcdabcdabcdabcdabcdabcdabcdabcdabcdabcdabcdabcdabcdabcdabcdabcdabcd"
     ]
    }
   ],
   "source": [
    "def myCycle(iterable):\n",
    "    while True:               #采用生成器循环生成\n",
    "        for item in iterable:\n",
    "            yield item\n",
    "c = myCycle('abcd')\n",
    "for i in range(100):\n",
    "    print(next(c),end = '')"
   ]
  },
  {
   "cell_type": "markdown",
   "metadata": {},
   "source": [
    "## 6."
   ]
  },
  {
   "cell_type": "code",
   "execution_count": 5,
   "metadata": {},
   "outputs": [
    {
     "name": "stdout",
     "output_type": "stream",
     "text": [
      "3\n",
      "5\n",
      "7\n",
      "9\n",
      "11\n",
      "13\n",
      "15\n",
      "17\n",
      "19\n",
      "21\n",
      "23\n",
      "25\n",
      "27\n",
      "29\n",
      "31\n",
      "33\n",
      "35\n",
      "37\n",
      "39\n",
      "41\n",
      "43\n",
      "45\n",
      "47\n",
      "49\n",
      "51\n",
      "53\n",
      "55\n",
      "57\n",
      "59\n",
      "61\n"
     ]
    }
   ],
   "source": [
    "def myCount(start, step): #itertools.count(start,step)函数的意思是创建一个从start开始每次的步长是step的无穷序列\n",
    "    while True:\n",
    "        yield start\n",
    "        start = start+step\n",
    "\n",
    "c = myCount(3, 2)\n",
    "for i in range(30):\n",
    "    print(next(c))"
   ]
  },
  {
   "cell_type": "markdown",
   "metadata": {},
   "source": [
    "## 7. "
   ]
  },
  {
   "cell_type": "code",
   "execution_count": 25,
   "metadata": {},
   "outputs": [
    {
     "name": "stdout",
     "output_type": "stream",
     "text": [
      "4\n",
      "3\n"
     ]
    }
   ],
   "source": [
    "def myReversed(lst):\n",
    "    for item in lst[::-1]:   #采用切片生成新的列表\n",
    "        yield item\n",
    "\n",
    "lst = list(range(5))\n",
    "r = myReversed(lst)\n",
    "print(next(r))\n",
    "print(next(r))"
   ]
  },
  {
   "cell_type": "code",
   "execution_count": 26,
   "metadata": {},
   "outputs": [
    {
     "data": {
      "text/plain": [
       "[4, 3, 2, 1, 0]"
      ]
     },
     "execution_count": 26,
     "metadata": {},
     "output_type": "execute_result"
    }
   ],
   "source": [
    "lst[::-1] #返回包含原列表中所有元素的逆序列表"
   ]
  },
  {
   "cell_type": "markdown",
   "metadata": {},
   "source": [
    "## 10."
   ]
  },
  {
   "cell_type": "code",
   "execution_count": 6,
   "metadata": {},
   "outputs": [
    {
     "name": "stdout",
     "output_type": "stream",
     "text": [
      "17\n",
      "16\n",
      "15\n"
     ]
    }
   ],
   "source": [
    "def Sum(a, b=3, c=5):\n",
    "    return sum([a, b, c])\n",
    "print(Sum(a=8, c=2, b=7))\n",
    "print(Sum(8))\n",
    "print(Sum(8,2))"
   ]
  }
 ],
 "metadata": {
  "kernelspec": {
   "display_name": "Python 3",
   "language": "python",
   "name": "python3"
  },
  "language_info": {
   "codemirror_mode": {
    "name": "ipython",
    "version": 3
   },
   "file_extension": ".py",
   "mimetype": "text/x-python",
   "name": "python",
   "nbconvert_exporter": "python",
   "pygments_lexer": "ipython3",
   "version": "3.7.4"
  }
 },
 "nbformat": 4,
 "nbformat_minor": 2
}
