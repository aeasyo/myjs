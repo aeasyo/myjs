{
 "cells": [
  {
   "cell_type": "code",
   "execution_count": 3,
   "metadata": {},
   "outputs": [
    {
     "name": "stdout",
     "output_type": "stream",
     "text": [
      "980\n"
     ]
    }
   ],
   "source": [
    "#第2题\n",
    "for i in range(1000,1,-1):#遍历1-1000整数\n",
    "    if i%7 == 0 and i%5 == 0:#判断是否能够同时整除5和7的整数\n",
    "        print(i)#输出最大值\n",
    "        break\n",
    "        "
   ]
  },
  {
   "cell_type": "code",
   "execution_count": 12,
   "metadata": {},
   "outputs": [
    {
     "name": "stdout",
     "output_type": "stream",
     "text": [
      "请输入使用逗号分隔的若干数字：1,2,3,4,5,1,2,3,4\n",
      "5 "
     ]
    }
   ],
   "source": [
    "#第3题\n",
    "data = input('请输入使用逗号分隔的若干数字：').split(',') #split() 通过指定分隔符对字符串进行切片\n",
    "data = list(map(int,data))#输入字符的转换为整形\n",
    "for num in data:\n",
    "    if data.count(num) == 1:#count() 方法用于统计字符串里出现的次数为1\n",
    "        print(num,end=' ')#输出数字"
   ]
  },
  {
   "cell_type": "code",
   "execution_count": 7,
   "metadata": {},
   "outputs": [
    {
     "name": "stdout",
     "output_type": "stream",
     "text": [
      "[20, 39, 19, 23, 29, 11, 40, 39, 35, 49, 10, 19, 47, 9, 43, 33, 41, 7, 31, 8]\n"
     ]
    }
   ],
   "source": [
    "#第6题\n",
    "from random import randrange\n",
    "values=[randrange(1,50) for i in range(20)]#生成20个随机在1-50中间的数的列表\n",
    "print(values)\n",
    "def insert_sort(data):\n",
    "\n",
    "        for i in range(1, len(data)):#从第二个数开始排序\n",
    "            value = data[i]  # 插入值\n",
    "            \n",
    "            j = i-1 # 记录插入位置  j+1 代表插入的位置\n",
    "            while j >= 0:    # 不用 for 循环是因为 j 为 -1 的情况\n",
    "                if  data[j] > value:\n",
    "                    data[j+1] = data[j]\n",
    "                else :\n",
    "                    break\n",
    "                j -= 1\n",
    "\n",
    "            data[j+1] = value\n",
    "        return data"
   ]
  },
  {
   "cell_type": "code",
   "execution_count": 8,
   "metadata": {},
   "outputs": [
    {
     "data": {
      "text/plain": [
       "[7, 8, 9, 10, 11, 19, 19, 20, 23, 29, 31, 33, 35, 39, 39, 40, 41, 43, 47, 49]"
      ]
     },
     "execution_count": 8,
     "metadata": {},
     "output_type": "execute_result"
    }
   ],
   "source": [
    "insert_sort(values)"
   ]
  },
  {
   "cell_type": "code",
   "execution_count": 9,
   "metadata": {},
   "outputs": [
    {
     "name": "stdout",
     "output_type": "stream",
     "text": [
      "1\n"
     ]
    }
   ],
   "source": [
    "#第10题\n",
    "s = 0\n",
    "for i in range(1,101):\n",
    "    s += i\n",
    "else:\n",
    "    print(1)#执行完for循环后执行else"
   ]
  },
  {
   "cell_type": "code",
   "execution_count": 10,
   "metadata": {},
   "outputs": [
    {
     "name": "stdout",
     "output_type": "stream",
     "text": [
      "1275\n"
     ]
    }
   ],
   "source": [
    "#第11题\n",
    "s = 0\n",
    "for i in range(1,101):\n",
    "    s += i\n",
    "    if i == 50:\n",
    "        print(s)\n",
    "        break#跳出循环 不执行else 输出1-50相加的数\n",
    "else:\n",
    "    print(1)"
   ]
  },
  {
   "cell_type": "code",
   "execution_count": 11,
   "metadata": {},
   "outputs": [
    {
     "name": "stdout",
     "output_type": "stream",
     "text": [
      "请输入一个数字:1\n",
      "1\n"
     ]
    }
   ],
   "source": [
    "#第13题\n",
    "x = input('请输入一个数字:')#输入一个数字\n",
    "x = int(x)#将其转换为整型\n",
    "if x>0:#判断正负，用if结构\n",
    "    print(1) \n",
    "elif x<0:\n",
    "    print(-1)\n",
    "else:\n",
    "    print(0)"
   ]
  },
  {
   "cell_type": "code",
   "execution_count": null,
   "metadata": {},
   "outputs": [],
   "source": []
  }
 ],
 "metadata": {
  "kernelspec": {
   "display_name": "Python 3",
   "language": "python",
   "name": "python3"
  },
  "language_info": {
   "codemirror_mode": {
    "name": "ipython",
    "version": 3
   },
   "file_extension": ".py",
   "mimetype": "text/x-python",
   "name": "python",
   "nbconvert_exporter": "python",
   "pygments_lexer": "ipython3",
   "version": "3.7.4"
  }
 },
 "nbformat": 4,
 "nbformat_minor": 2
}
