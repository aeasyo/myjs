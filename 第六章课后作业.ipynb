{
 "cells": [
  {
   "cell_type": "code",
   "execution_count": 1,
   "metadata": {},
   "outputs": [],
   "source": [
    "class Vector3:\n",
    "    #构造方法，初始化，定义向量坐标\n",
    "    def __init__(self, x, y, z):\n",
    "        self.__x = x\n",
    "        self.__y = y\n",
    "        self.__z = z\n",
    "\n",
    "    #与两一个向量相加，对应分量相加，返回新向量\n",
    "    def add(self, anotherPoint):\n",
    "        x = self.__x + anotherPoint.__x\n",
    "        y = self.__y + anotherPoint.__y\n",
    "        z = self.__z + anotherPoint.__z\n",
    "        return Vector3(x, y, z)\n",
    "\n",
    "    #减去另一个向量，对应分量相减，返回新向量\n",
    "    def sub(self, anotherPoint):\n",
    "        x = self.__x - anotherPoint.__x\n",
    "        y = self.__y - anotherPoint.__y\n",
    "        z = self.__z - anotherPoint.__z\n",
    "        return Vector3(x, y, z)\n",
    "\n",
    "    #向量与一个数字相乘，各分量乘以同一个数字，返回新向量\n",
    "    def mul(self, n):\n",
    "        x, y, z = self.__x*n, self.__y*n, self.__z*n\n",
    "        return Vector3(x, y, z)\n",
    "\n",
    "    #向量除以一个数字，各分量除以同一个数字，返回新向量\n",
    "    def div(self, n):\n",
    "        x, y, z = self.__x/n, self.__y/n, self.__z/n\n",
    "        return Vector3(x, y, z)\n",
    "\n",
    "    #查看向量各分量值\n",
    "    def show(self):\n",
    "        print('X:{0}, Y:{1}, Z:{2}'.format(self.__x,self.__y,self.__z))\n",
    "    \n",
    "    #为 Vector3 类增加下面的方法。\n",
    "    def dot(self, anotherPoint):\n",
    "        x = self.__x*anotherPoint.__x\n",
    "        y = self.__y*anotherPoint.__y\n",
    "        z = self.__z*anotherPoint.__z\n",
    "        print(x+y+z)\n",
    "        return \n",
    "\n",
    "    #查看向量长度，所有分量平方和的平方根\n",
    "    @property\n",
    "    def length(self):\n",
    "        return (self.__x**2 + self.__y**2 + self.__z**2)**0.5"
   ]
  },
  {
   "cell_type": "code",
   "execution_count": 2,
   "metadata": {},
   "outputs": [
    {
     "name": "stdout",
     "output_type": "stream",
     "text": [
      "194\n"
     ]
    }
   ],
   "source": [
    "v = Vector3(7, 8, 9)\n",
    "v.dot(Vector3(7, 8, 9))"
   ]
  },
  {
   "cell_type": "code",
   "execution_count": 3,
   "metadata": {},
   "outputs": [],
   "source": [
    "class MyArray:\n",
    "    def __init__(self, args):\n",
    "        if not args:\n",
    "            self.__value = []\n",
    "        else:\n",
    "            self.__value = list(args)\n",
    "# 修改元素值， 支持使用列表或元组指定多个下标， 同时修改多个元素值\n",
    "    def __setitem__(self, index, value):\n",
    "        length = len(self.__value)\n",
    "# 如果下标合法， 则直接修改元素值\n",
    "        if isinstance(index, int) and 0<=index<length:\n",
    "            self.__value[index] = value\n",
    "        else:\n",
    "            raise Exception('index error')\n",
    "    def show(self):\n",
    "        print(self.__value) "
   ]
  },
  {
   "cell_type": "code",
   "execution_count": 4,
   "metadata": {},
   "outputs": [
    {
     "name": "stdout",
     "output_type": "stream",
     "text": [
      "[1, 8, 2, 3]\n"
     ]
    }
   ],
   "source": [
    "A = MyArray((1,2,2,3))\n",
    "A.__setitem__(1,8)\n",
    "A.show()"
   ]
  },
  {
   "cell_type": "code",
   "execution_count": 5,
   "metadata": {},
   "outputs": [
    {
     "name": "stdout",
     "output_type": "stream",
     "text": [
      "[0, 1, 2, 3, 4, 5, 6, 7, 8, 9]\n"
     ]
    }
   ],
   "source": [
    "A = MyArray(range(10))\n",
    "A.show()"
   ]
  },
  {
   "cell_type": "code",
   "execution_count": 6,
   "metadata": {},
   "outputs": [],
   "source": [
    "class MyArray:\n",
    "    def __init__(self, args):\n",
    "        if not args:\n",
    "            self.__value = []\n",
    "        else:\n",
    "            self.__value = list(args)\n",
    "# 获取指定下标的元素值， 支持使用列表或元组指定多个下标\n",
    "    def __getitem__(self, index):\n",
    "        length = len(self.__value)\n",
    "# 如果指定单个整数作为下标， 则直接返回元素值\n",
    "        if isinstance(index, int) and 0<=index<length:\n",
    "             return self.__value[index]\n",
    "# 使用列表或元组指定多个整数下标\n",
    "        elif isinstance(index, tuple):\n",
    "            for i in index:\n",
    "                if not (isinstance(i,int) and 0<=i<length):\n",
    "                     return 'index error'\n",
    "            result = []\n",
    "            for item in index:\n",
    "                result.append(self.__value[item])\n",
    "            return result\n",
    "        else:\n",
    "            return 'index error'"
   ]
  },
  {
   "cell_type": "code",
   "execution_count": 7,
   "metadata": {},
   "outputs": [
    {
     "data": {
      "text/plain": [
       "1"
      ]
     },
     "execution_count": 7,
     "metadata": {},
     "output_type": "execute_result"
    }
   ],
   "source": [
    "A = MyArray((1,2,2,3))\n",
    "A.__getitem__(0)"
   ]
  },
  {
   "cell_type": "code",
   "execution_count": 8,
   "metadata": {},
   "outputs": [
    {
     "data": {
      "text/plain": [
       "[3, 1, 2]"
      ]
     },
     "execution_count": 8,
     "metadata": {},
     "output_type": "execute_result"
    }
   ],
   "source": [
    "A = MyArray((1,2,2,3))\n",
    "A.__getitem__((3,0,2))"
   ]
  },
  {
   "cell_type": "code",
   "execution_count": null,
   "metadata": {},
   "outputs": [],
   "source": []
  }
 ],
 "metadata": {
  "kernelspec": {
   "display_name": "Python 3",
   "language": "python",
   "name": "python3"
  },
  "language_info": {
   "codemirror_mode": {
    "name": "ipython",
    "version": 3
   },
   "file_extension": ".py",
   "mimetype": "text/x-python",
   "name": "python",
   "nbconvert_exporter": "python",
   "pygments_lexer": "ipython3",
   "version": "3.7.4"
  }
 },
 "nbformat": 4,
 "nbformat_minor": 2
}
