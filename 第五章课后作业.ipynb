{
 "cells": [
  {
   "cell_type": "code",
   "execution_count": 1,
   "metadata": {},
   "outputs": [
    {
     "name": "stdout",
     "output_type": "stream",
     "text": [
      "请输入一个数：12\n",
      "请输入一个数：24\n",
      "12\n"
     ]
    }
   ],
   "source": [
    "#第二题 编写函数，实现辗转相除法，接受两个整数，返回这两个整数的最大公约数\n",
    "a = int(input('请输入一个数：'))\n",
    "b = int(input('请输入一个数：'))\n",
    "if(a<b):\n",
    "    t=b\n",
    "    b=a\n",
    "    a=t\n",
    "r = a%b\n",
    "while(r!=0):\n",
    "    a=b\n",
    "    b=r\n",
    "    r=a%b\n",
    "print(b)#辗转相除法：辗转相除法是求两个自然数的最大公约数的一种方法，也叫欧几里德算法。"
   ]
  },
  {
   "cell_type": "code",
   "execution_count": 2,
   "metadata": {},
   "outputs": [
    {
     "name": "stdout",
     "output_type": "stream",
     "text": [
      "n = 2\n",
      "a = 2\n",
      "2\n",
      "22\n",
      "24\n"
     ]
    }
   ],
   "source": [
    "#第三题 编写函数，接受参数a,n,计算并返回形式a+aa+aaa+.....+aaa...aaa的前n项的值，其中a为小于10的自然数\n",
    "from functools import reduce\n",
    "\n",
    "Tn = 0\n",
    "Sn = []\n",
    "n = int(input('n = '))\n",
    "a = int(input('a = '))\n",
    "for count in range(n):\n",
    "    Tn = Tn + a\n",
    "    a = a * 10\n",
    "    Sn.append(Tn)\n",
    "    print (Tn)\n",
    " \n",
    "Sn = reduce(lambda x,y : x + y,Sn)\n",
    "print(Sn)"
   ]
  },
  {
   "cell_type": "code",
   "execution_count": 3,
   "metadata": {},
   "outputs": [
    {
     "name": "stdout",
     "output_type": "stream",
     "text": [
      "请输入一个数字:\n",
      "12321\n",
      "12321 是一个回文数!\n"
     ]
    }
   ],
   "source": [
    "#第四题 编写函数，接受一个字符串，判断该字符串是否是回文。所谓回文是指，从前往后读和从后往前读是一样的。\n",
    "a = int(input(\"请输入一个数字:\\n\"))\n",
    "x = str(a)\n",
    "flag = True\n",
    " \n",
    "for i in range(int(len(x)/2)):\n",
    "    if x[i] != x[-i - 1]:\n",
    "        flag = False\n",
    "        break\n",
    "if flag:\n",
    "    print (\"%d 是一个回文数!\" % a)\n",
    "else:\n",
    "    print (\"%d 不是一个回文数!\" % a)"
   ]
  },
  {
   "cell_type": "code",
   "execution_count": 4,
   "metadata": {},
   "outputs": [
    {
     "name": "stdout",
     "output_type": "stream",
     "text": [
      "[15, 14, 13, 12, 11, 10]\n"
     ]
    }
   ],
   "source": [
    "#第七题  编写函数，模拟内置函数Reverse()的功能。\n",
    "def Reverse(lst):\n",
    "    new_lst = lst[::-1]\n",
    "    return new_lst\n",
    "     \n",
    "lst = [10, 11, 12, 13, 14, 15] \n",
    "print(Reverse(lst))"
   ]
  },
  {
   "cell_type": "code",
   "execution_count": 1,
   "metadata": {},
   "outputs": [
    {
     "name": "stdout",
     "output_type": "stream",
     "text": [
      "abcdabcdabcdabcdabcdabcdabcdabcdabcdabcdabcdabcdabcdabcdabcdabcdabcdabcdabcdabcdabcdabcdabcdabcdabcd"
     ]
    }
   ],
   "source": [
    "#第五题  编写函数，实现标准库itertols中cycle()函数的功能。\n",
    "def myCycle(iterable):\n",
    "    while True:               #采用生成器循环生成\n",
    "        for item in iterable:\n",
    "            yield item\n",
    "c = myCycle('abcd')\n",
    "for i in range(100):\n",
    "    print(next(c),end = '')"
   ]
  },
  {
   "cell_type": "code",
   "execution_count": 2,
   "metadata": {},
   "outputs": [
    {
     "name": "stdout",
     "output_type": "stream",
     "text": [
      "3\n",
      "5\n",
      "7\n",
      "9\n",
      "11\n",
      "13\n",
      "15\n",
      "17\n",
      "19\n",
      "21\n",
      "23\n",
      "25\n",
      "27\n",
      "29\n",
      "31\n",
      "33\n",
      "35\n",
      "37\n",
      "39\n",
      "41\n",
      "43\n",
      "45\n",
      "47\n",
      "49\n",
      "51\n",
      "53\n",
      "55\n",
      "57\n",
      "59\n",
      "61\n"
     ]
    }
   ],
   "source": [
    "#第六题  编写函数，实现标准库itertols中count()函数的功能。\n",
    "def myCount(start, step): #itertools.count(start,step)函数的意思是创建一个从start开始每次的步长是step的无穷序列\n",
    "    while True:\n",
    "        yield start\n",
    "        start = start+step\n",
    "\n",
    "c = myCount(3, 2)\n",
    "for i in range(30):\n",
    "    print(next(c))"
   ]
  },
  {
   "cell_type": "code",
   "execution_count": null,
   "metadata": {},
   "outputs": [],
   "source": []
  }
 ],
 "metadata": {
  "kernelspec": {
   "display_name": "Python 3",
   "language": "python",
   "name": "python3"
  },
  "language_info": {
   "codemirror_mode": {
    "name": "ipython",
    "version": 3
   },
   "file_extension": ".py",
   "mimetype": "text/x-python",
   "name": "python",
   "nbconvert_exporter": "python",
   "pygments_lexer": "ipython3",
   "version": "3.7.4"
  }
 },
 "nbformat": 4,
 "nbformat_minor": 2
}
